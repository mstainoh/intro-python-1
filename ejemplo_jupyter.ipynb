{
 "cells": [
  {
   "attachments": {},
   "cell_type": "markdown",
   "metadata": {},
   "source": [
    "Las jupyter tienen \"celdas\". Pueden ser codigo o texto. Esto es una celda de texto, podemos usar lenguaje markdown. Ejemplo:\n",
    "\n",
    "1. listas numeradas\n",
    "\n",
    "Ecuaciones formato latex: $V_{esfera} = \\frac{4}{3} \\pi  r^3$\n",
    "\n",
    "**negrita**, *cursiva*, o `formato codigo`\n",
    "\n",
    "emojis ⚔ "
   ]
  },
  {
   "cell_type": "code",
   "execution_count": null,
   "metadata": {},
   "outputs": [],
   "source": [
    "print('hola')"
   ]
  },
  {
   "cell_type": "code",
   "execution_count": null,
   "metadata": {},
   "outputs": [],
   "source": [
    "# esto es una lista, parecido a un vector, pero puede tener cualquier cosa\n",
    "milista = [1,2,3, 'hola']\n",
    "largo = len(milista)\n",
    "print('mi lista tiene', largo, 'elementos')\n",
    "\n",
    "# podemos iterar sobre la lista con un \"for\"\n",
    "for i in range(len(milista)):\n",
    "  print(f'El elemento {i} de la lista es igual a {milista[i]}') "
   ]
  },
  {
   "cell_type": "code",
   "execution_count": null,
   "metadata": {},
   "outputs": [],
   "source": [
    "# para hacer un grafico, podemos importar una libreria\n",
    "import matplotlib.pyplot as plt\n",
    "x = [1,2,3,4,5]\n",
    "y = [2,4,5,6,7]\n",
    "\n",
    "plt.plot(x, y)"
   ]
  },
  {
   "cell_type": "code",
   "execution_count": null,
   "metadata": {},
   "outputs": [],
   "source": [
    "import seaborn as sns\n",
    "import matplotlib.pyplot as plt\n",
    "\n",
    "# Load example dataset\n",
    "tips = sns.load_dataset(\"tips\")\n",
    "\n",
    "# Set the color palette\n",
    "sns.set_palette(\"violet\")\n",
    "\n",
    "# Create a scatter plot with 'total_bill' on x-axis and 'tip' on y-axis\n",
    "sns.scatterplot(data=tips, x=\"total_bill\", y=\"tip\", hue=\"size\")\n",
    "\n",
    "# Set the title and axis labels\n",
    "plt.title(\"Tips vs Total Bill\")\n",
    "plt.xlabel(\"Total Bill\")\n",
    "plt.ylabel(\"Tip\")\n",
    "\n",
    "# Show the plot\n",
    "plt.show()"
   ]
  }
 ],
 "metadata": {
  "kernelspec": {
   "display_name": "base",
   "language": "python",
   "name": "python3"
  },
  "language_info": {
   "name": "python",
   "version": "3.8.15"
  },
  "orig_nbformat": 4
 },
 "nbformat": 4,
 "nbformat_minor": 2
}
