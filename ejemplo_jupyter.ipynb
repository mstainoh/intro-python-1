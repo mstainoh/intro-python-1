{
 "cells": [
  {
   "attachments": {},
   "cell_type": "markdown",
   "metadata": {},
   "source": [
    "Las jupyter tienen \"celdas\". Pueden ser codigo o texto. Esto es una celda de texto, podemos usar lenguaje markdown. Ejemplo:\n",
    "\n",
    "1. listas numeradas\n",
    "\n",
    "Ecuaciones formato latex: $V_{esfera} = \\frac{4}{3} \\pi  r^3$\n",
    "\n",
    "**negrita**, *cursiva*, o `formato codigo`\n",
    "\n",
    "emojis ⚔ "
   ]
  },
  {
   "cell_type": "code",
   "execution_count": null,
   "metadata": {},
   "outputs": [],
   "source": [
    "print('hola')"
   ]
  },
  {
   "cell_type": "code",
   "execution_count": null,
   "metadata": {},
   "outputs": [],
   "source": [
    "# esto es una lista, parecido a un vector, pero puede tener cualquier cosa\n",
    "milista = [1,2,3, 'hola']\n",
    "largo = len(milista)\n",
    "print('mi lista tiene', largo, 'elementos')\n",
    "\n",
    "# podemos iterar sobre la lista con un \"for\"\n",
    "for i in range(len(milista)):\n",
    "  print(f'El elemento {i} de la lista es igual a {milista[i]}') "
   ]
  }
 ],
 "metadata": {
  "language_info": {
   "name": "python"
  },
  "orig_nbformat": 4
 },
 "nbformat": 4,
 "nbformat_minor": 2
}
