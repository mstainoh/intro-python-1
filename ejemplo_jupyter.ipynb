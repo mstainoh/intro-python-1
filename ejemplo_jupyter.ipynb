{
 "cells": [
  {
   "cell_type": "markdown",
   "metadata": {},
   "source": [
    "# Celdas"
   ]
  },
  {
   "cell_type": "markdown",
   "metadata": {},
   "source": [
    "Las jupyter tienen \"celdas\". Pueden ser codigo o texto. Esto es una celda de texto, podemos usar lenguaje markdown. Ejemplo:\n",
    "\n",
    "1. listas numeradas\n",
    "\n",
    "Ecuaciones formato latex: $V_{esfera} = \\frac{4}{3} \\pi  r^3$\n",
    "\n",
    "**negrita**, *cursiva*, o `formato codigo`\n",
    "\n",
    "emojis ⚔ "
   ]
  },
  {
   "cell_type": "code",
   "execution_count": null,
   "metadata": {},
   "outputs": [],
   "source": [
    "print('hola')"
   ]
  },
  {
   "cell_type": "markdown",
   "metadata": {},
   "source": [
    "# Tipos de Datos"
   ]
  },
  {
   "cell_type": "code",
   "execution_count": 48,
   "metadata": {},
   "outputs": [
    {
     "name": "stdout",
     "output_type": "stream",
     "text": [
      "<class 'int'> <class 'float'> <class 'str'> <class 'list'> <class 'bool'>\n"
     ]
    }
   ],
   "source": [
    "n = 10\n",
    "x = 0.1\n",
    "s = 'hola'\n",
    "l = [1,2,3]\n",
    "condicion = False\n",
    "\n",
    "print(type(n), type(x), type(s), type(l), type(condicion))"
   ]
  },
  {
   "cell_type": "markdown",
   "metadata": {},
   "source": [
    "# comados basicos"
   ]
  },
  {
   "cell_type": "code",
   "execution_count": 49,
   "metadata": {},
   "outputs": [
    {
     "name": "stdout",
     "output_type": "stream",
     "text": [
      "la condicion es falsa\n"
     ]
    }
   ],
   "source": [
    "#condicionales\n",
    "condicion = False\n",
    "if condicion:\n",
    "    print('la condicion es verdadera')\n",
    "else:\n",
    "    print('la condicion es falsa')"
   ]
  },
  {
   "cell_type": "code",
   "execution_count": 52,
   "metadata": {},
   "outputs": [
    {
     "name": "stdout",
     "output_type": "stream",
     "text": [
      "1\n",
      "2\n",
      "3\n",
      "hola\n",
      "\n",
      "0 - 1\n",
      "1 - 2\n",
      "2 - 3\n",
      "3 - hola\n"
     ]
    }
   ],
   "source": [
    "# podemos iterar sobre la lista con un \"for\"\n",
    "milista = [1,2,3,'hola']\n",
    "for elemento in milista:\n",
    "    print(elemento)\n",
    "print()\n",
    "\n",
    "# o bien con el indice\n",
    "for i in range(len(milista)):\n",
    "    elemento = milista[i]\n",
    "    print(i, '-', elemento)"
   ]
  },
  {
   "cell_type": "code",
   "execution_count": 54,
   "metadata": {},
   "outputs": [
    {
     "name": "stdout",
     "output_type": "stream",
     "text": [
      "10\n",
      "\n",
      "1\n",
      "N/A\n",
      "2\n"
     ]
    }
   ],
   "source": [
    "# funciones\n",
    "# notar que, como en excel, la logica es: input -> funcion -> output\n",
    "\n",
    "def duplicar(x):\n",
    "    resultado = 2 * x\n",
    "    return resultado\n",
    "\n",
    "print(duplicar(5))\n",
    "print()\n",
    "\n",
    "def coincidir(valor, lista, ordenado=False):\n",
    "    for i in range(len(lista)):\n",
    "        elemento = lista[i]\n",
    "        if ordenado:\n",
    "            if elemento > valor:\n",
    "                return i\n",
    "        else:\n",
    "            if elemento == valor:\n",
    "                return i\n",
    "    return \"N/A\"\n",
    "\n",
    "nombres = ['jorge', 'marcos',  'pablo', 'pedro', 'raul']\n",
    "print(coincidir('marcos', nombres))\n",
    "print(coincidir('maria', nombres))\n",
    "print(coincidir('maria', nombres, True))\n",
    "\n"
   ]
  },
  {
   "cell_type": "markdown",
   "metadata": {},
   "source": [
    "# Pandas"
   ]
  },
  {
   "cell_type": "code",
   "execution_count": 9,
   "metadata": {},
   "outputs": [
    {
     "name": "stdout",
     "output_type": "stream",
     "text": [
      "  nombre  edad sexo color_preferido  altura\n",
      "0   pepe    10    M            rojo     1.2\n",
      "1  maria    12    F            azul     1.3\n",
      "2  jorge     8    M            azul     1.1\n",
      "\n"
     ]
    }
   ],
   "source": [
    "import pandas as pd\n",
    "\n",
    "datos = pd.DataFrame({\n",
    "    'nombre': ['pepe', 'maria', 'jorge'],\n",
    "    'edad': [10, 12, 8],\n",
    "    'sexo': ['M', 'F', 'M'],\n",
    "    'color_preferido': ['rojo', 'azul', 'azul'],\n",
    "    'altura': [1.2, 1.3, 1.1],\n",
    "})\n",
    "\n",
    "print(datos)\n",
    "print()"
   ]
  },
  {
   "cell_type": "code",
   "execution_count": 12,
   "metadata": {},
   "outputs": [
    {
     "name": "stdout",
     "output_type": "stream",
     "text": [
      "en total hay 3 chicos\n",
      "(3, 5)\n",
      "\n",
      "nombre              object\n",
      "edad                 int64\n",
      "sexo                object\n",
      "color_preferido     object\n",
      "altura             float64\n",
      "dtype: object\n",
      "\n"
     ]
    }
   ],
   "source": [
    "print('en total hay', len(datos), 'chicos')\n",
    "print(datos.shape)\n",
    "print()\n",
    "\n",
    "print(datos.dtypes)\n",
    "print()\n"
   ]
  },
  {
   "cell_type": "markdown",
   "metadata": {},
   "source": [
    "# Graficos"
   ]
  },
  {
   "cell_type": "code",
   "execution_count": 4,
   "metadata": {},
   "outputs": [
    {
     "data": {
      "text/plain": [
       "[<matplotlib.lines.Line2D at 0x20842c31f40>]"
      ]
     },
     "execution_count": 4,
     "metadata": {},
     "output_type": "execute_result"
    },
    {
     "data": {
      "image/png": "[encoded data removed]",
      "text/plain": [
       "<Figure size 640x480 with 1 Axes>"
      ]
     },
     "metadata": {},
     "output_type": "display_data"
    }
   ],
   "source": [
    "# la libreria basica de python\n",
    "import matplotlib.pyplot as plt\n",
    "x = [1,2,3,4,5]\n",
    "y = [2,4,5,6,7]\n",
    "\n",
    "plt.plot(x, y, marker='o', color='blue')"
   ]
  },
  {
   "cell_type": "code",
   "execution_count": 15,
   "metadata": {},
   "outputs": [
    {
     "data": {
      "image/png": "[encoded data removed]",
      "text/plain": [
       "<Figure size 640x480 with 1 Axes>"
      ]
     },
     "metadata": {},
     "output_type": "display_data"
    }
   ],
   "source": [
    "# ejemplo de una libreria un poco mejor\n",
    "import seaborn as sns\n",
    "import matplotlib.pyplot as plt\n",
    "\n",
    "# Create a scatter plot with 'total_bill' on x-axis and 'tip' on y-axis\n",
    "sns.scatterplot(datos, x='edad', y='altura', hue='nombre')\n",
    "\n",
    "# Set the title and axis labels\n",
    "plt.title(\"Mis datos\")\n",
    "plt.xlabel(\"Edad en años\")\n",
    "plt.ylabel(\"Altura en metros\")\n",
    "\n",
    "# Show the plot\n",
    "plt.show()"
   ]
  },
  {
   "cell_type": "code",
   "execution_count": 26,
   "metadata": {},
   "outputs": [
    {
     "data": {
      "application/vnd.plotly.v1+json": {
       "config": {
        "plotlyServerURL": "https://plot.ly"
       },
       "data": [
        {
         "hovertemplate": "edad=%{x}<br>altura=%{y}<extra></extra>",
         "legendgroup": "",
         "marker": {
          "color": "#636efa",
          "symbol": "circle"
         },
         "mode": "markers",
         "name": "",
         "orientation": "v",
         "showlegend": false,
         "type": "scatter",
         "x": [
          10,
          12,
          8
         ],
         "xaxis": "x",
         "y": [
          1.2,
          1.3,
          1.1
         ],
         "yaxis": "y"
        }
       ],
       "layout": {
        "height": 300,
        "legend": {
         "tracegroupgap": 0
        },
        "margin": {
         "t": 60
        },
        "template": {
         "data": {
          "bar": [
           {
            "error_x": {
             "color": "#2a3f5f"
            },
            "error_y": {
             "color": "#2a3f5f"
            },
            "marker": {
             "line": {
              "color": "#E5ECF6",
              "width": 0.5
             },
             "pattern": {
              "fillmode": "overlay",
              "size": 10,
              "solidity": 0.2
             }
            },
            "type": "bar"
           }
          ],
          "barpolar": [
           {
            "marker": {
             "line": {
              "color": "#E5ECF6",
              "width": 0.5
             },
             "pattern": {
              "fillmode": "overlay",
              "size": 10,
              "solidity": 0.2
             }
            },
            "type": "barpolar"
           }
          ],
          "carpet": [
           {
            "aaxis": {
             "endlinecolor": "#2a3f5f",
             "gridcolor": "white",
             "linecolor": "white",
             "minorgridcolor": "white",
             "startlinecolor": "#2a3f5f"
            },
            "baxis": {
             "endlinecolor": "#2a3f5f",
             "gridcolor": "white",
             "linecolor": "white",
             "minorgridcolor": "white",
             "startlinecolor": "#2a3f5f"
            },
            "type": "carpet"
           }
          ],
          "choropleth": [
           {
            "colorbar": {
             "outlinewidth": 0,
             "ticks": ""
            },
            "type": "choropleth"
           }
          ],
          "contour": [
           {
            "colorbar": {
             "outlinewidth": 0,
             "ticks": ""
            },
            "colorscale": [
             [
              0,
              "#0d0887"
             ],
             [
              0.1111111111111111,
              "#46039f"
             ],
             [
              0.2222222222222222,
              "#7201a8"
             ],
             [
              0.3333333333333333,
              "#9c179e"
             ],
             [
              0.4444444444444444,
              "#bd3786"
             ],
             [
              0.5555555555555556,
              "#d8576b"
             ],
             [
              0.6666666666666666,
              "#ed7953"
             ],
             [
              0.7777777777777778,
              "#fb9f3a"
             ],
             [
              0.8888888888888888,
              "#fdca26"
             ],
             [
              1,
              "#f0f921"
             ]
            ],
            "type": "contour"
           }
          ],
          "contourcarpet": [
           {
            "colorbar": {
             "outlinewidth": 0,
             "ticks": ""
            },
            "type": "contourcarpet"
           }
          ],
          "heatmap": [
           {
            "colorbar": {
             "outlinewidth": 0,
             "ticks": ""
            },
            "colorscale": [
             [
              0,
              "#0d0887"
             ],
             [
              0.1111111111111111,
              "#46039f"
             ],
             [
              0.2222222222222222,
              "#7201a8"
             ],
             [
              0.3333333333333333,
              "#9c179e"
             ],
             [
              0.4444444444444444,
              "#bd3786"
             ],
             [
              0.5555555555555556,
              "#d8576b"
             ],
             [
              0.6666666666666666,
              "#ed7953"
             ],
             [
              0.7777777777777778,
              "#fb9f3a"
             ],
             [
              0.8888888888888888,
              "#fdca26"
             ],
             [
              1,
              "#f0f921"
             ]
            ],
            "type": "heatmap"
           }
          ],
          "heatmapgl": [
           {
            "colorbar": {
             "outlinewidth": 0,
             "ticks": ""
            },
            "colorscale": [
             [
              0,
              "#0d0887"
             ],
             [
              0.1111111111111111,
              "#46039f"
             ],
             [
              0.2222222222222222,
              "#7201a8"
             ],
             [
              0.3333333333333333,
              "#9c179e"
             ],
             [
              0.4444444444444444,
              "#bd3786"
             ],
             [
              0.5555555555555556,
              "#d8576b"
             ],
             [
              0.6666666666666666,
              "#ed7953"
             ],
             [
              0.7777777777777778,
              "#fb9f3a"
             ],
             [
              0.8888888888888888,
              "#fdca26"
             ],
             [
              1,
              "#f0f921"
             ]
            ],
            "type": "heatmapgl"
           }
          ],
          "histogram": [
           {
            "marker": {
             "pattern": {
              "fillmode": "overlay",
              "size": 10,
              "solidity": 0.2
             }
            },
            "type": "histogram"
           }
          ],
          "histogram2d": [
           {
            "colorbar": {
             "outlinewidth": 0,
             "ticks": ""
            },
            "colorscale": [
             [
              0,
              "#0d0887"
             ],
             [
              0.1111111111111111,
              "#46039f"
             ],
             [
              0.2222222222222222,
              "#7201a8"
             ],
             [
              0.3333333333333333,
              "#9c179e"
             ],
             [
              0.4444444444444444,
              "#bd3786"
             ],
             [
              0.5555555555555556,
              "#d8576b"
             ],
             [
              0.6666666666666666,
              "#ed7953"
             ],
             [
              0.7777777777777778,
              "#fb9f3a"
             ],
             [
              0.8888888888888888,
              "#fdca26"
             ],
             [
              1,
              "#f0f921"
             ]
            ],
            "type": "histogram2d"
           }
          ],
          "histogram2dcontour": [
           {
            "colorbar": {
             "outlinewidth": 0,
             "ticks": ""
            },
            "colorscale": [
             [
              0,
              "#0d0887"
             ],
             [
              0.1111111111111111,
              "#46039f"
             ],
             [
              0.2222222222222222,
              "#7201a8"
             ],
             [
              0.3333333333333333,
              "#9c179e"
             ],
             [
              0.4444444444444444,
              "#bd3786"
             ],
             [
              0.5555555555555556,
              "#d8576b"
             ],
             [
              0.6666666666666666,
              "#ed7953"
             ],
             [
              0.7777777777777778,
              "#fb9f3a"
             ],
             [
              0.8888888888888888,
              "#fdca26"
             ],
             [
              1,
              "#f0f921"
             ]
            ],
            "type": "histogram2dcontour"
           }
          ],
          "mesh3d": [
           {
            "colorbar": {
             "outlinewidth": 0,
             "ticks": ""
            },
            "type": "mesh3d"
           }
          ],
          "parcoords": [
           {
            "line": {
             "colorbar": {
              "outlinewidth": 0,
              "ticks": ""
             }
            },
            "type": "parcoords"
           }
          ],
          "pie": [
           {
            "automargin": true,
            "type": "pie"
           }
          ],
          "scatter": [
           {
            "fillpattern": {
             "fillmode": "overlay",
             "size": 10,
             "solidity": 0.2
            },
            "type": "scatter"
           }
          ],
          "scatter3d": [
           {
            "line": {
             "colorbar": {
              "outlinewidth": 0,
              "ticks": ""
             }
            },
            "marker": {
             "colorbar": {
              "outlinewidth": 0,
              "ticks": ""
             }
            },
            "type": "scatter3d"
           }
          ],
          "scattercarpet": [
           {
            "marker": {
             "colorbar": {
              "outlinewidth": 0,
              "ticks": ""
             }
            },
            "type": "scattercarpet"
           }
          ],
          "scattergeo": [
           {
            "marker": {
             "colorbar": {
              "outlinewidth": 0,
              "ticks": ""
             }
            },
            "type": "scattergeo"
           }
          ],
          "scattergl": [
           {
            "marker": {
             "colorbar": {
              "outlinewidth": 0,
              "ticks": ""
             }
            },
            "type": "scattergl"
           }
          ],
          "scattermapbox": [
           {
            "marker": {
             "colorbar": {
              "outlinewidth": 0,
              "ticks": ""
             }
            },
            "type": "scattermapbox"
           }
          ],
          "scatterpolar": [
           {
            "marker": {
             "colorbar": {
              "outlinewidth": 0,
              "ticks": ""
             }
            },
            "type": "scatterpolar"
           }
          ],
          "scatterpolargl": [
           {
            "marker": {
             "colorbar": {
              "outlinewidth": 0,
              "ticks": ""
             }
            },
            "type": "scatterpolargl"
           }
          ],
          "scatterternary": [
           {
            "marker": {
             "colorbar": {
              "outlinewidth": 0,
              "ticks": ""
             }
            },
            "type": "scatterternary"
           }
          ],
          "surface": [
           {
            "colorbar": {
             "outlinewidth": 0,
             "ticks": ""
            },
            "colorscale": [
             [
              0,
              "#0d0887"
             ],
             [
              0.1111111111111111,
              "#46039f"
             ],
             [
              0.2222222222222222,
              "#7201a8"
             ],
             [
              0.3333333333333333,
              "#9c179e"
             ],
             [
              0.4444444444444444,
              "#bd3786"
             ],
             [
              0.5555555555555556,
              "#d8576b"
             ],
             [
              0.6666666666666666,
              "#ed7953"
             ],
             [
              0.7777777777777778,
              "#fb9f3a"
             ],
             [
              0.8888888888888888,
              "#fdca26"
             ],
             [
              1,
              "#f0f921"
             ]
            ],
            "type": "surface"
           }
          ],
          "table": [
           {
            "cells": {
             "fill": {
              "color": "#EBF0F8"
             },
             "line": {
              "color": "white"
             }
            },
            "header": {
             "fill": {
              "color": "#C8D4E3"
             },
             "line": {
              "color": "white"
             }
            },
            "type": "table"
           }
          ]
         },
         "layout": {
          "annotationdefaults": {
           "arrowcolor": "#2a3f5f",
           "arrowhead": 0,
           "arrowwidth": 1
          },
          "autotypenumbers": "strict",
          "coloraxis": {
           "colorbar": {
            "outlinewidth": 0,
            "ticks": ""
           }
          },
          "colorscale": {
           "diverging": [
            [
             0,
             "#8e0152"
            ],
            [
             0.1,
             "#c51b7d"
            ],
            [
             0.2,
             "#de77ae"
            ],
            [
             0.3,
             "#f1b6da"
            ],
            [
             0.4,
             "#fde0ef"
            ],
            [
             0.5,
             "#f7f7f7"
            ],
            [
             0.6,
             "#e6f5d0"
            ],
            [
             0.7,
             "#b8e186"
            ],
            [
             0.8,
             "#7fbc41"
            ],
            [
             0.9,
             "#4d9221"
            ],
            [
             1,
             "#276419"
            ]
           ],
           "sequential": [
            [
             0,
             "#0d0887"
            ],
            [
             0.1111111111111111,
             "#46039f"
            ],
            [
             0.2222222222222222,
             "#7201a8"
            ],
            [
             0.3333333333333333,
             "#9c179e"
            ],
            [
             0.4444444444444444,
             "#bd3786"
            ],
            [
             0.5555555555555556,
             "#d8576b"
            ],
            [
             0.6666666666666666,
             "#ed7953"
            ],
            [
             0.7777777777777778,
             "#fb9f3a"
            ],
            [
             0.8888888888888888,
             "#fdca26"
            ],
            [
             1,
             "#f0f921"
            ]
           ],
           "sequentialminus": [
            [
             0,
             "#0d0887"
            ],
            [
             0.1111111111111111,
             "#46039f"
            ],
            [
             0.2222222222222222,
             "#7201a8"
            ],
            [
             0.3333333333333333,
             "#9c179e"
            ],
            [
             0.4444444444444444,
             "#bd3786"
            ],
            [
             0.5555555555555556,
             "#d8576b"
            ],
            [
             0.6666666666666666,
             "#ed7953"
            ],
            [
             0.7777777777777778,
             "#fb9f3a"
            ],
            [
             0.8888888888888888,
             "#fdca26"
            ],
            [
             1,
             "#f0f921"
            ]
           ]
          },
          "colorway": [
           "#636efa",
           "#EF553B",
           "#00cc96",
           "#ab63fa",
           "#FFA15A",
           "#19d3f3",
           "#FF6692",
           "#B6E880",
           "#FF97FF",
           "#FECB52"
          ],
          "font": {
           "color": "#2a3f5f"
          },
          "geo": {
           "bgcolor": "white",
           "lakecolor": "white",
           "landcolor": "#E5ECF6",
           "showlakes": true,
           "showland": true,
           "subunitcolor": "white"
          },
          "hoverlabel": {
           "align": "left"
          },
          "hovermode": "closest",
          "mapbox": {
           "style": "light"
          },
          "paper_bgcolor": "white",
          "plot_bgcolor": "#E5ECF6",
          "polar": {
           "angularaxis": {
            "gridcolor": "white",
            "linecolor": "white",
            "ticks": ""
           },
           "bgcolor": "#E5ECF6",
           "radialaxis": {
            "gridcolor": "white",
            "linecolor": "white",
            "ticks": ""
           }
          },
          "scene": {
           "xaxis": {
            "backgroundcolor": "#E5ECF6",
            "gridcolor": "white",
            "gridwidth": 2,
            "linecolor": "white",
            "showbackground": true,
            "ticks": "",
            "zerolinecolor": "white"
           },
           "yaxis": {
            "backgroundcolor": "#E5ECF6",
            "gridcolor": "white",
            "gridwidth": 2,
            "linecolor": "white",
            "showbackground": true,
            "ticks": "",
            "zerolinecolor": "white"
           },
           "zaxis": {
            "backgroundcolor": "#E5ECF6",
            "gridcolor": "white",
            "gridwidth": 2,
            "linecolor": "white",
            "showbackground": true,
            "ticks": "",
            "zerolinecolor": "white"
           }
          },
          "shapedefaults": {
           "line": {
            "color": "#2a3f5f"
           }
          },
          "ternary": {
           "aaxis": {
            "gridcolor": "white",
            "linecolor": "white",
            "ticks": ""
           },
           "baxis": {
            "gridcolor": "white",
            "linecolor": "white",
            "ticks": ""
           },
           "bgcolor": "#E5ECF6",
           "caxis": {
            "gridcolor": "white",
            "linecolor": "white",
            "ticks": ""
           }
          },
          "title": {
           "x": 0.05
          },
          "xaxis": {
           "automargin": true,
           "gridcolor": "white",
           "linecolor": "white",
           "ticks": "",
           "title": {
            "standoff": 15
           },
           "zerolinecolor": "white",
           "zerolinewidth": 2
          },
          "yaxis": {
           "automargin": true,
           "gridcolor": "white",
           "linecolor": "white",
           "ticks": "",
           "title": {
            "standoff": 15
           },
           "zerolinecolor": "white",
           "zerolinewidth": 2
          }
         }
        },
        "width": 500,
        "xaxis": {
         "anchor": "y",
         "domain": [
          0,
          1
         ],
         "title": {
          "text": "edad"
         }
        },
        "yaxis": {
         "anchor": "x",
         "domain": [
          0,
          1
         ],
         "title": {
          "text": "altura"
         }
        }
       }
      },
      "text/html": [
       "<div>                            <div id=\"37e5ee3a-6b6d-4d27-97a9-131d9477e7b3\" class=\"plotly-graph-div\" style=\"height:300px; width:500px;\"></div>            <script type=\"text/javascript\">                require([\"plotly\"], function(Plotly) {                    window.PLOTLYENV=window.PLOTLYENV || {};                                    if (document.getElementById(\"37e5ee3a-6b6d-4d27-97a9-131d9477e7b3\")) {                    Plotly.newPlot(                        \"37e5ee3a-6b6d-4d27-97a9-131d9477e7b3\",                        [{\"hovertemplate\":\"edad=%{x}<br>altura=%{y}<extra></extra>\",\"legendgroup\":\"\",\"marker\":{\"color\":\"#636efa\",\"symbol\":\"circle\"},\"mode\":\"markers\",\"name\":\"\",\"orientation\":\"v\",\"showlegend\":false,\"x\":[10,12,8],\"xaxis\":\"x\",\"y\":[1.2,1.3,1.1],\"yaxis\":\"y\",\"type\":\"scatter\"}],                        {\"template\":{\"data\":{\"histogram2dcontour\":[{\"type\":\"histogram2dcontour\",\"colorbar\":{\"outlinewidth\":0,\"ticks\":\"\"},\"colorscale\":[[0.0,\"#0d0887\"],[0.1111111111111111,\"#46039f\"],[0.2222222222222222,\"#7201a8\"],[0.3333333333333333,\"#9c179e\"],[0.4444444444444444,\"#bd3786\"],[0.5555555555555556,\"#d8576b\"],[0.6666666666666666,\"#ed7953\"],[0.7777777777777778,\"#fb9f3a\"],[0.8888888888888888,\"#fdca26\"],[1.0,\"#f0f921\"]]}],\"choropleth\":[{\"type\":\"choropleth\",\"colorbar\":{\"outlinewidth\":0,\"ticks\":\"\"}}],\"histogram2d\":[{\"type\":\"histogram2d\",\"colorbar\":{\"outlinewidth\":0,\"ticks\":\"\"},\"colorscale\":[[0.0,\"#0d0887\"],[0.1111111111111111,\"#46039f\"],[0.2222222222222222,\"#7201a8\"],[0.3333333333333333,\"#9c179e\"],[0.4444444444444444,\"#bd3786\"],[0.5555555555555556,\"#d8576b\"],[0.6666666666666666,\"#ed7953\"],[0.7777777777777778,\"#fb9f3a\"],[0.8888888888888888,\"#fdca26\"],[1.0,\"#f0f921\"]]}],\"heatmap\":[{\"type\":\"heatmap\",\"colorbar\":{\"outlinewidth\":0,\"ticks\":\"\"},\"colorscale\":[[0.0,\"#0d0887\"],[0.1111111111111111,\"#46039f\"],[0.2222222222222222,\"#7201a8\"],[0.3333333333333333,\"#9c179e\"],[0.4444444444444444,\"#bd3786\"],[0.5555555555555556,\"#d8576b\"],[0.6666666666666666,\"#ed7953\"],[0.7777777777777778,\"#fb9f3a\"],[0.8888888888888888,\"#fdca26\"],[1.0,\"#f0f921\"]]}],\"heatmapgl\":[{\"type\":\"heatmapgl\",\"colorbar\":{\"outlinewidth\":0,\"ticks\":\"\"},\"colorscale\":[[0.0,\"#0d0887\"],[0.1111111111111111,\"#46039f\"],[0.2222222222222222,\"#7201a8\"],[0.3333333333333333,\"#9c179e\"],[0.4444444444444444,\"#bd3786\"],[0.5555555555555556,\"#d8576b\"],[0.6666666666666666,\"#ed7953\"],[0.7777777777777778,\"#fb9f3a\"],[0.8888888888888888,\"#fdca26\"],[1.0,\"#f0f921\"]]}],\"contourcarpet\":[{\"type\":\"contourcarpet\",\"colorbar\":{\"outlinewidth\":0,\"ticks\":\"\"}}],\"contour\":[{\"type\":\"contour\",\"colorbar\":{\"outlinewidth\":0,\"ticks\":\"\"},\"colorscale\":[[0.0,\"#0d0887\"],[0.1111111111111111,\"#46039f\"],[0.2222222222222222,\"#7201a8\"],[0.3333333333333333,\"#9c179e\"],[0.4444444444444444,\"#bd3786\"],[0.5555555555555556,\"#d8576b\"],[0.6666666666666666,\"#ed7953\"],[0.7777777777777778,\"#fb9f3a\"],[0.8888888888888888,\"#fdca26\"],[1.0,\"#f0f921\"]]}],\"surface\":[{\"type\":\"surface\",\"colorbar\":{\"outlinewidth\":0,\"ticks\":\"\"},\"colorscale\":[[0.0,\"#0d0887\"],[0.1111111111111111,\"#46039f\"],[0.2222222222222222,\"#7201a8\"],[0.3333333333333333,\"#9c179e\"],[0.4444444444444444,\"#bd3786\"],[0.5555555555555556,\"#d8576b\"],[0.6666666666666666,\"#ed7953\"],[0.7777777777777778,\"#fb9f3a\"],[0.8888888888888888,\"#fdca26\"],[1.0,\"#f0f921\"]]}],\"mesh3d\":[{\"type\":\"mesh3d\",\"colorbar\":{\"outlinewidth\":0,\"ticks\":\"\"}}],\"scatter\":[{\"fillpattern\":{\"fillmode\":\"overlay\",\"size\":10,\"solidity\":0.2},\"type\":\"scatter\"}],\"parcoords\":[{\"type\":\"parcoords\",\"line\":{\"colorbar\":{\"outlinewidth\":0,\"ticks\":\"\"}}}],\"scatterpolargl\":[{\"type\":\"scatterpolargl\",\"marker\":{\"colorbar\":{\"outlinewidth\":0,\"ticks\":\"\"}}}],\"bar\":[{\"error_x\":{\"color\":\"#2a3f5f\"},\"error_y\":{\"color\":\"#2a3f5f\"},\"marker\":{\"line\":{\"color\":\"#E5ECF6\",\"width\":0.5},\"pattern\":{\"fillmode\":\"overlay\",\"size\":10,\"solidity\":0.2}},\"type\":\"bar\"}],\"scattergeo\":[{\"type\":\"scattergeo\",\"marker\":{\"colorbar\":{\"outlinewidth\":0,\"ticks\":\"\"}}}],\"scatterpolar\":[{\"type\":\"scatterpolar\",\"marker\":{\"colorbar\":{\"outlinewidth\":0,\"ticks\":\"\"}}}],\"histogram\":[{\"marker\":{\"pattern\":{\"fillmode\":\"overlay\",\"size\":10,\"solidity\":0.2}},\"type\":\"histogram\"}],\"scattergl\":[{\"type\":\"scattergl\",\"marker\":{\"colorbar\":{\"outlinewidth\":0,\"ticks\":\"\"}}}],\"scatter3d\":[{\"type\":\"scatter3d\",\"line\":{\"colorbar\":{\"outlinewidth\":0,\"ticks\":\"\"}},\"marker\":{\"colorbar\":{\"outlinewidth\":0,\"ticks\":\"\"}}}],\"scattermapbox\":[{\"type\":\"scattermapbox\",\"marker\":{\"colorbar\":{\"outlinewidth\":0,\"ticks\":\"\"}}}],\"scatterternary\":[{\"type\":\"scatterternary\",\"marker\":{\"colorbar\":{\"outlinewidth\":0,\"ticks\":\"\"}}}],\"scattercarpet\":[{\"type\":\"scattercarpet\",\"marker\":{\"colorbar\":{\"outlinewidth\":0,\"ticks\":\"\"}}}],\"carpet\":[{\"aaxis\":{\"endlinecolor\":\"#2a3f5f\",\"gridcolor\":\"white\",\"linecolor\":\"white\",\"minorgridcolor\":\"white\",\"startlinecolor\":\"#2a3f5f\"},\"baxis\":{\"endlinecolor\":\"#2a3f5f\",\"gridcolor\":\"white\",\"linecolor\":\"white\",\"minorgridcolor\":\"white\",\"startlinecolor\":\"#2a3f5f\"},\"type\":\"carpet\"}],\"table\":[{\"cells\":{\"fill\":{\"color\":\"#EBF0F8\"},\"line\":{\"color\":\"white\"}},\"header\":{\"fill\":{\"color\":\"#C8D4E3\"},\"line\":{\"color\":\"white\"}},\"type\":\"table\"}],\"barpolar\":[{\"marker\":{\"line\":{\"color\":\"#E5ECF6\",\"width\":0.5},\"pattern\":{\"fillmode\":\"overlay\",\"size\":10,\"solidity\":0.2}},\"type\":\"barpolar\"}],\"pie\":[{\"automargin\":true,\"type\":\"pie\"}]},\"layout\":{\"autotypenumbers\":\"strict\",\"colorway\":[\"#636efa\",\"#EF553B\",\"#00cc96\",\"#ab63fa\",\"#FFA15A\",\"#19d3f3\",\"#FF6692\",\"#B6E880\",\"#FF97FF\",\"#FECB52\"],\"font\":{\"color\":\"#2a3f5f\"},\"hovermode\":\"closest\",\"hoverlabel\":{\"align\":\"left\"},\"paper_bgcolor\":\"white\",\"plot_bgcolor\":\"#E5ECF6\",\"polar\":{\"bgcolor\":\"#E5ECF6\",\"angularaxis\":{\"gridcolor\":\"white\",\"linecolor\":\"white\",\"ticks\":\"\"},\"radialaxis\":{\"gridcolor\":\"white\",\"linecolor\":\"white\",\"ticks\":\"\"}},\"ternary\":{\"bgcolor\":\"#E5ECF6\",\"aaxis\":{\"gridcolor\":\"white\",\"linecolor\":\"white\",\"ticks\":\"\"},\"baxis\":{\"gridcolor\":\"white\",\"linecolor\":\"white\",\"ticks\":\"\"},\"caxis\":{\"gridcolor\":\"white\",\"linecolor\":\"white\",\"ticks\":\"\"}},\"coloraxis\":{\"colorbar\":{\"outlinewidth\":0,\"ticks\":\"\"}},\"colorscale\":{\"sequential\":[[0.0,\"#0d0887\"],[0.1111111111111111,\"#46039f\"],[0.2222222222222222,\"#7201a8\"],[0.3333333333333333,\"#9c179e\"],[0.4444444444444444,\"#bd3786\"],[0.5555555555555556,\"#d8576b\"],[0.6666666666666666,\"#ed7953\"],[0.7777777777777778,\"#fb9f3a\"],[0.8888888888888888,\"#fdca26\"],[1.0,\"#f0f921\"]],\"sequentialminus\":[[0.0,\"#0d0887\"],[0.1111111111111111,\"#46039f\"],[0.2222222222222222,\"#7201a8\"],[0.3333333333333333,\"#9c179e\"],[0.4444444444444444,\"#bd3786\"],[0.5555555555555556,\"#d8576b\"],[0.6666666666666666,\"#ed7953\"],[0.7777777777777778,\"#fb9f3a\"],[0.8888888888888888,\"#fdca26\"],[1.0,\"#f0f921\"]],\"diverging\":[[0,\"#8e0152\"],[0.1,\"#c51b7d\"],[0.2,\"#de77ae\"],[0.3,\"#f1b6da\"],[0.4,\"#fde0ef\"],[0.5,\"#f7f7f7\"],[0.6,\"#e6f5d0\"],[0.7,\"#b8e186\"],[0.8,\"#7fbc41\"],[0.9,\"#4d9221\"],[1,\"#276419\"]]},\"xaxis\":{\"gridcolor\":\"white\",\"linecolor\":\"white\",\"ticks\":\"\",\"title\":{\"standoff\":15},\"zerolinecolor\":\"white\",\"automargin\":true,\"zerolinewidth\":2},\"yaxis\":{\"gridcolor\":\"white\",\"linecolor\":\"white\",\"ticks\":\"\",\"title\":{\"standoff\":15},\"zerolinecolor\":\"white\",\"automargin\":true,\"zerolinewidth\":2},\"scene\":{\"xaxis\":{\"backgroundcolor\":\"#E5ECF6\",\"gridcolor\":\"white\",\"linecolor\":\"white\",\"showbackground\":true,\"ticks\":\"\",\"zerolinecolor\":\"white\",\"gridwidth\":2},\"yaxis\":{\"backgroundcolor\":\"#E5ECF6\",\"gridcolor\":\"white\",\"linecolor\":\"white\",\"showbackground\":true,\"ticks\":\"\",\"zerolinecolor\":\"white\",\"gridwidth\":2},\"zaxis\":{\"backgroundcolor\":\"#E5ECF6\",\"gridcolor\":\"white\",\"linecolor\":\"white\",\"showbackground\":true,\"ticks\":\"\",\"zerolinecolor\":\"white\",\"gridwidth\":2}},\"shapedefaults\":{\"line\":{\"color\":\"#2a3f5f\"}},\"annotationdefaults\":{\"arrowcolor\":\"#2a3f5f\",\"arrowhead\":0,\"arrowwidth\":1},\"geo\":{\"bgcolor\":\"white\",\"landcolor\":\"#E5ECF6\",\"subunitcolor\":\"white\",\"showland\":true,\"showlakes\":true,\"lakecolor\":\"white\"},\"title\":{\"x\":0.05},\"mapbox\":{\"style\":\"light\"}}},\"xaxis\":{\"anchor\":\"y\",\"domain\":[0.0,1.0],\"title\":{\"text\":\"edad\"}},\"yaxis\":{\"anchor\":\"x\",\"domain\":[0.0,1.0],\"title\":{\"text\":\"altura\"}},\"legend\":{\"tracegroupgap\":0},\"margin\":{\"t\":60},\"height\":300,\"width\":500},                        {\"responsive\": true}                    ).then(function(){\n",
       "                            \n",
       "var gd = document.getElementById('37e5ee3a-6b6d-4d27-97a9-131d9477e7b3');\n",
       "var x = new MutationObserver(function (mutations, observer) {{\n",
       "        var display = window.getComputedStyle(gd).display;\n",
       "        if (!display || display === 'none') {{\n",
       "            console.log([gd, 'removed!']);\n",
       "            Plotly.purge(gd);\n",
       "            observer.disconnect();\n",
       "        }}\n",
       "}});\n",
       "\n",
       "// Listen for the removal of the full notebook cells\n",
       "var notebookContainer = gd.closest('#notebook-container');\n",
       "if (notebookContainer) {{\n",
       "    x.observe(notebookContainer, {childList: true});\n",
       "}}\n",
       "\n",
       "// Listen for the clearing of the current output cell\n",
       "var outputEl = gd.closest('.output');\n",
       "if (outputEl) {{\n",
       "    x.observe(outputEl, {childList: true});\n",
       "}}\n",
       "\n",
       "                        })                };                });            </script>        </div>"
      ]
     },
     "metadata": {},
     "output_type": "display_data"
    }
   ],
   "source": [
    "# ejemplo de una libreria interactiva\n",
    "import plotly.express as px\n",
    "fig = px.scatter(datos, x='edad', y='altura')\n",
    "fig.update_layout(xaxis_title=\"edad\", yaxis_title=\"altura\", height=300, width=500)\n",
    "fig.show()"
   ]
  },
  {
   "cell_type": "markdown",
   "metadata": {},
   "source": [
    "# ejemplo "
   ]
  },
  {
   "cell_type": "markdown",
   "metadata": {},
   "source": [
    "## leer datos"
   ]
  },
  {
   "cell_type": "code",
   "execution_count": 46,
   "metadata": {},
   "outputs": [
    {
     "data": {
      "text/html": [
       "<div>\n",
       "<style scoped>\n",
       "    .dataframe tbody tr th:only-of-type {\n",
       "        vertical-align: middle;\n",
       "    }\n",
       "\n",
       "    .dataframe tbody tr th {\n",
       "        vertical-align: top;\n",
       "    }\n",
       "\n",
       "    .dataframe thead th {\n",
       "        text-align: right;\n",
       "    }\n",
       "</style>\n",
       "<table border=\"1\" class=\"dataframe\">\n",
       "  <thead>\n",
       "    <tr style=\"text-align: right;\">\n",
       "      <th></th>\n",
       "      <th>AÑO</th>\n",
       "      <th>MES</th>\n",
       "      <th>Fecha</th>\n",
       "      <th>Tipo día</th>\n",
       "      <th>GRAN BS.AS.</th>\n",
       "      <th>BUENOS AIRES</th>\n",
       "      <th>CENTRO</th>\n",
       "      <th>LITORAL</th>\n",
       "      <th>CUYO</th>\n",
       "      <th>NOROESTE</th>\n",
       "      <th>NORESTE</th>\n",
       "      <th>COMAHUE</th>\n",
       "      <th>PATAGONICA</th>\n",
       "      <th>DEMANDA TOTAL</th>\n",
       "      <th>TEMPERATURA REFERENCIA MEDIA GBA °C</th>\n",
       "    </tr>\n",
       "  </thead>\n",
       "  <tbody>\n",
       "    <tr>\n",
       "      <th>0</th>\n",
       "      <td>2017</td>\n",
       "      <td>2017-01-01</td>\n",
       "      <td>2017-01-01</td>\n",
       "      <td>Domingo o Feriado</td>\n",
       "      <td>6352.695208</td>\n",
       "      <td>1472.270500</td>\n",
       "      <td>1134.394250</td>\n",
       "      <td>1766.623958</td>\n",
       "      <td>903.135875</td>\n",
       "      <td>1602.126625</td>\n",
       "      <td>1400.333417</td>\n",
       "      <td>561.243208</td>\n",
       "      <td>500.863042</td>\n",
       "      <td>15693.686083</td>\n",
       "      <td>31.30</td>\n",
       "    </tr>\n",
       "    <tr>\n",
       "      <th>1</th>\n",
       "      <td>2017</td>\n",
       "      <td>2017-01-01</td>\n",
       "      <td>2017-01-02</td>\n",
       "      <td>Lunes habiles</td>\n",
       "      <td>6617.863750</td>\n",
       "      <td>1779.435208</td>\n",
       "      <td>1363.527292</td>\n",
       "      <td>1963.925833</td>\n",
       "      <td>1091.811167</td>\n",
       "      <td>1627.567250</td>\n",
       "      <td>1585.616708</td>\n",
       "      <td>638.835167</td>\n",
       "      <td>540.577750</td>\n",
       "      <td>17209.160125</td>\n",
       "      <td>25.35</td>\n",
       "    </tr>\n",
       "    <tr>\n",
       "      <th>2</th>\n",
       "      <td>2017</td>\n",
       "      <td>2017-01-01</td>\n",
       "      <td>2017-01-03</td>\n",
       "      <td>Martes Habiles</td>\n",
       "      <td>6677.996167</td>\n",
       "      <td>1888.984333</td>\n",
       "      <td>1600.744625</td>\n",
       "      <td>2036.345917</td>\n",
       "      <td>1178.718583</td>\n",
       "      <td>1806.474000</td>\n",
       "      <td>1652.989833</td>\n",
       "      <td>624.649083</td>\n",
       "      <td>536.472333</td>\n",
       "      <td>18003.374875</td>\n",
       "      <td>25.45</td>\n",
       "    </tr>\n",
       "    <tr>\n",
       "      <th>3</th>\n",
       "      <td>2017</td>\n",
       "      <td>2017-01-01</td>\n",
       "      <td>2017-01-04</td>\n",
       "      <td>Miercoles habiles</td>\n",
       "      <td>6426.997625</td>\n",
       "      <td>1840.623833</td>\n",
       "      <td>1356.381292</td>\n",
       "      <td>1756.640500</td>\n",
       "      <td>1078.903250</td>\n",
       "      <td>1759.855667</td>\n",
       "      <td>1604.750375</td>\n",
       "      <td>598.400500</td>\n",
       "      <td>528.904083</td>\n",
       "      <td>16951.457125</td>\n",
       "      <td>27.00</td>\n",
       "    </tr>\n",
       "    <tr>\n",
       "      <th>4</th>\n",
       "      <td>2017</td>\n",
       "      <td>2017-01-01</td>\n",
       "      <td>2017-01-05</td>\n",
       "      <td>Jueves Habiles</td>\n",
       "      <td>5873.950750</td>\n",
       "      <td>1770.942583</td>\n",
       "      <td>1366.018917</td>\n",
       "      <td>1848.409375</td>\n",
       "      <td>1037.791833</td>\n",
       "      <td>1403.490042</td>\n",
       "      <td>1228.303125</td>\n",
       "      <td>585.206708</td>\n",
       "      <td>524.657125</td>\n",
       "      <td>15638.770458</td>\n",
       "      <td>21.90</td>\n",
       "    </tr>\n",
       "  </tbody>\n",
       "</table>\n",
       "</div>"
      ],
      "text/plain": [
       "    AÑO        MES      Fecha           Tipo día  GRAN BS.AS.  BUENOS AIRES  \\\n",
       "0  2017 2017-01-01 2017-01-01  Domingo o Feriado  6352.695208   1472.270500   \n",
       "1  2017 2017-01-01 2017-01-02      Lunes habiles  6617.863750   1779.435208   \n",
       "2  2017 2017-01-01 2017-01-03     Martes Habiles  6677.996167   1888.984333   \n",
       "3  2017 2017-01-01 2017-01-04  Miercoles habiles  6426.997625   1840.623833   \n",
       "4  2017 2017-01-01 2017-01-05     Jueves Habiles  5873.950750   1770.942583   \n",
       "\n",
       "        CENTRO      LITORAL         CUYO     NOROESTE      NORESTE  \\\n",
       "0  1134.394250  1766.623958   903.135875  1602.126625  1400.333417   \n",
       "1  1363.527292  1963.925833  1091.811167  1627.567250  1585.616708   \n",
       "2  1600.744625  2036.345917  1178.718583  1806.474000  1652.989833   \n",
       "3  1356.381292  1756.640500  1078.903250  1759.855667  1604.750375   \n",
       "4  1366.018917  1848.409375  1037.791833  1403.490042  1228.303125   \n",
       "\n",
       "      COMAHUE  PATAGONICA  DEMANDA TOTAL  TEMPERATURA REFERENCIA MEDIA GBA °C  \n",
       "0  561.243208  500.863042   15693.686083                                31.30  \n",
       "1  638.835167  540.577750   17209.160125                                25.35  \n",
       "2  624.649083  536.472333   18003.374875                                25.45  \n",
       "3  598.400500  528.904083   16951.457125                                27.00  \n",
       "4  585.206708  524.657125   15638.770458                                21.90  "
      ]
     },
     "execution_count": 46,
     "metadata": {},
     "output_type": "execute_result"
    }
   ],
   "source": [
    "df = pd.read_excel('datos/Base Demanda Diaria 2017 2023.xlsx', sheet_name='Datos Región', skiprows=4)\n",
    "df.head()\n"
   ]
  },
  {
   "cell_type": "markdown",
   "metadata": {},
   "source": [
    "## limpiar datos"
   ]
  },
  {
   "cell_type": "code",
   "execution_count": 47,
   "metadata": {},
   "outputs": [
    {
     "data": {
      "text/plain": [
       "AÑO                                             int64\n",
       "MES                                    datetime64[ns]\n",
       "Fecha                                  datetime64[ns]\n",
       "Tipo día                                       object\n",
       "GRAN BS.AS.                                   float64\n",
       "BUENOS AIRES                                  float64\n",
       "CENTRO                                        float64\n",
       "LITORAL                                       float64\n",
       "CUYO                                          float64\n",
       "NOROESTE                                      float64\n",
       "NORESTE                                       float64\n",
       "COMAHUE                                       float64\n",
       "PATAGONICA                                    float64\n",
       "DEMANDA TOTAL                                 float64\n",
       "TEMPERATURA REFERENCIA MEDIA GBA °C           float64\n",
       "dtype: object"
      ]
     },
     "execution_count": 47,
     "metadata": {},
     "output_type": "execute_result"
    }
   ],
   "source": [
    "df.dtypes"
   ]
  },
  {
   "cell_type": "markdown",
   "metadata": {},
   "source": [
    "## resultados en formato tabla"
   ]
  },
  {
   "cell_type": "code",
   "execution_count": 57,
   "metadata": {},
   "outputs": [
    {
     "data": {
      "text/html": [
       "<div>\n",
       "<style scoped>\n",
       "    .dataframe tbody tr th:only-of-type {\n",
       "        vertical-align: middle;\n",
       "    }\n",
       "\n",
       "    .dataframe tbody tr th {\n",
       "        vertical-align: top;\n",
       "    }\n",
       "\n",
       "    .dataframe thead th {\n",
       "        text-align: right;\n",
       "    }\n",
       "</style>\n",
       "<table border=\"1\" class=\"dataframe\">\n",
       "  <thead>\n",
       "    <tr style=\"text-align: right;\">\n",
       "      <th></th>\n",
       "      <th>Tipo día</th>\n",
       "      <th>Domingo o Feriado</th>\n",
       "      <th>Jueves Habiles</th>\n",
       "      <th>Lunes habiles</th>\n",
       "      <th>Martes Habiles</th>\n",
       "      <th>Miercoles habiles</th>\n",
       "      <th>Sabado o Semilaborable</th>\n",
       "      <th>Viernes habiles</th>\n",
       "      <th>promedio</th>\n",
       "      <th>rango</th>\n",
       "      <th>rango_relativo</th>\n",
       "    </tr>\n",
       "    <tr>\n",
       "      <th>AÑO</th>\n",
       "      <th>MES</th>\n",
       "      <th></th>\n",
       "      <th></th>\n",
       "      <th></th>\n",
       "      <th></th>\n",
       "      <th></th>\n",
       "      <th></th>\n",
       "      <th></th>\n",
       "      <th></th>\n",
       "      <th></th>\n",
       "      <th></th>\n",
       "    </tr>\n",
       "  </thead>\n",
       "  <tbody>\n",
       "    <tr>\n",
       "      <th rowspan=\"5\" valign=\"top\">2017</th>\n",
       "      <th>2017-01-01</th>\n",
       "      <td>1596.914317</td>\n",
       "      <td>1848.113177</td>\n",
       "      <td>1856.459550</td>\n",
       "      <td>1893.043608</td>\n",
       "      <td>1813.875562</td>\n",
       "      <td>1838.080052</td>\n",
       "      <td>1886.889813</td>\n",
       "      <td>1819.053726</td>\n",
       "      <td>296.129292</td>\n",
       "      <td>0.162793</td>\n",
       "    </tr>\n",
       "    <tr>\n",
       "      <th>2017-02-01</th>\n",
       "      <td>1608.931972</td>\n",
       "      <td>1887.820781</td>\n",
       "      <td>1744.939319</td>\n",
       "      <td>1852.843153</td>\n",
       "      <td>1849.405417</td>\n",
       "      <td>1771.120865</td>\n",
       "      <td>1907.223448</td>\n",
       "      <td>1803.183565</td>\n",
       "      <td>298.291476</td>\n",
       "      <td>0.165425</td>\n",
       "    </tr>\n",
       "    <tr>\n",
       "      <th>2017-03-01</th>\n",
       "      <td>1463.719392</td>\n",
       "      <td>1771.534400</td>\n",
       "      <td>1702.941885</td>\n",
       "      <td>1792.204146</td>\n",
       "      <td>1815.006383</td>\n",
       "      <td>1623.531271</td>\n",
       "      <td>1739.667969</td>\n",
       "      <td>1701.229349</td>\n",
       "      <td>351.286992</td>\n",
       "      <td>0.206490</td>\n",
       "    </tr>\n",
       "    <tr>\n",
       "      <th>2017-04-01</th>\n",
       "      <td>1465.038653</td>\n",
       "      <td>1684.703861</td>\n",
       "      <td>1688.173021</td>\n",
       "      <td>1753.203135</td>\n",
       "      <td>1776.946135</td>\n",
       "      <td>1685.615792</td>\n",
       "      <td>1767.468056</td>\n",
       "      <td>1688.735522</td>\n",
       "      <td>311.907483</td>\n",
       "      <td>0.184699</td>\n",
       "    </tr>\n",
       "    <tr>\n",
       "      <th>2017-05-01</th>\n",
       "      <td>1457.203972</td>\n",
       "      <td>1799.338403</td>\n",
       "      <td>1706.251583</td>\n",
       "      <td>1761.258808</td>\n",
       "      <td>1805.046450</td>\n",
       "      <td>1707.968927</td>\n",
       "      <td>1781.684188</td>\n",
       "      <td>1716.964619</td>\n",
       "      <td>347.842478</td>\n",
       "      <td>0.202592</td>\n",
       "    </tr>\n",
       "    <tr>\n",
       "      <th>...</th>\n",
       "      <th>...</th>\n",
       "      <td>...</td>\n",
       "      <td>...</td>\n",
       "      <td>...</td>\n",
       "      <td>...</td>\n",
       "      <td>...</td>\n",
       "      <td>...</td>\n",
       "      <td>...</td>\n",
       "      <td>...</td>\n",
       "      <td>...</td>\n",
       "      <td>...</td>\n",
       "    </tr>\n",
       "    <tr>\n",
       "      <th rowspan=\"2\" valign=\"top\">2022</th>\n",
       "      <th>2022-11-01</th>\n",
       "      <td>1671.567400</td>\n",
       "      <td>1944.724125</td>\n",
       "      <td>1985.380486</td>\n",
       "      <td>1951.778592</td>\n",
       "      <td>1942.108233</td>\n",
       "      <td>1883.454458</td>\n",
       "      <td>1967.972677</td>\n",
       "      <td>1906.712282</td>\n",
       "      <td>313.813086</td>\n",
       "      <td>0.164583</td>\n",
       "    </tr>\n",
       "    <tr>\n",
       "      <th>2022-12-01</th>\n",
       "      <td>1832.073690</td>\n",
       "      <td>2047.708396</td>\n",
       "      <td>1989.923219</td>\n",
       "      <td>2112.458181</td>\n",
       "      <td>2141.538740</td>\n",
       "      <td>1830.694075</td>\n",
       "      <td>2026.150698</td>\n",
       "      <td>1997.221000</td>\n",
       "      <td>310.844665</td>\n",
       "      <td>0.155639</td>\n",
       "    </tr>\n",
       "    <tr>\n",
       "      <th rowspan=\"3\" valign=\"top\">2023</th>\n",
       "      <th>2023-01-01</th>\n",
       "      <td>1872.380200</td>\n",
       "      <td>2188.104969</td>\n",
       "      <td>2140.189325</td>\n",
       "      <td>2191.941300</td>\n",
       "      <td>2119.233458</td>\n",
       "      <td>2097.858104</td>\n",
       "      <td>2152.339354</td>\n",
       "      <td>2108.863816</td>\n",
       "      <td>319.561100</td>\n",
       "      <td>0.151532</td>\n",
       "    </tr>\n",
       "    <tr>\n",
       "      <th>2023-02-01</th>\n",
       "      <td>1796.754382</td>\n",
       "      <td>2092.832198</td>\n",
       "      <td>2124.389069</td>\n",
       "      <td>2222.196931</td>\n",
       "      <td>2108.882979</td>\n",
       "      <td>2030.939469</td>\n",
       "      <td>2119.073531</td>\n",
       "      <td>2070.724080</td>\n",
       "      <td>425.442549</td>\n",
       "      <td>0.205456</td>\n",
       "    </tr>\n",
       "    <tr>\n",
       "      <th>2023-03-01</th>\n",
       "      <td>1903.111133</td>\n",
       "      <td>2118.272633</td>\n",
       "      <td>2122.463865</td>\n",
       "      <td>2103.703844</td>\n",
       "      <td>2109.431200</td>\n",
       "      <td>2083.974302</td>\n",
       "      <td>2197.040583</td>\n",
       "      <td>2091.142509</td>\n",
       "      <td>293.929450</td>\n",
       "      <td>0.140559</td>\n",
       "    </tr>\n",
       "  </tbody>\n",
       "</table>\n",
       "<p>75 rows × 10 columns</p>\n",
       "</div>"
      ],
      "text/plain": [
       "Tipo día         Domingo o Feriado  Jueves Habiles  Lunes habiles  \\\n",
       "AÑO  MES                                                            \n",
       "2017 2017-01-01        1596.914317     1848.113177    1856.459550   \n",
       "     2017-02-01        1608.931972     1887.820781    1744.939319   \n",
       "     2017-03-01        1463.719392     1771.534400    1702.941885   \n",
       "     2017-04-01        1465.038653     1684.703861    1688.173021   \n",
       "     2017-05-01        1457.203972     1799.338403    1706.251583   \n",
       "...                            ...             ...            ...   \n",
       "2022 2022-11-01        1671.567400     1944.724125    1985.380486   \n",
       "     2022-12-01        1832.073690     2047.708396    1989.923219   \n",
       "2023 2023-01-01        1872.380200     2188.104969    2140.189325   \n",
       "     2023-02-01        1796.754382     2092.832198    2124.389069   \n",
       "     2023-03-01        1903.111133     2118.272633    2122.463865   \n",
       "\n",
       "Tipo día         Martes Habiles  Miercoles habiles  Sabado o Semilaborable  \\\n",
       "AÑO  MES                                                                     \n",
       "2017 2017-01-01     1893.043608        1813.875562             1838.080052   \n",
       "     2017-02-01     1852.843153        1849.405417             1771.120865   \n",
       "     2017-03-01     1792.204146        1815.006383             1623.531271   \n",
       "     2017-04-01     1753.203135        1776.946135             1685.615792   \n",
       "     2017-05-01     1761.258808        1805.046450             1707.968927   \n",
       "...                         ...                ...                     ...   \n",
       "2022 2022-11-01     1951.778592        1942.108233             1883.454458   \n",
       "     2022-12-01     2112.458181        2141.538740             1830.694075   \n",
       "2023 2023-01-01     2191.941300        2119.233458             2097.858104   \n",
       "     2023-02-01     2222.196931        2108.882979             2030.939469   \n",
       "     2023-03-01     2103.703844        2109.431200             2083.974302   \n",
       "\n",
       "Tipo día         Viernes habiles     promedio       rango  rango_relativo  \n",
       "AÑO  MES                                                                   \n",
       "2017 2017-01-01      1886.889813  1819.053726  296.129292        0.162793  \n",
       "     2017-02-01      1907.223448  1803.183565  298.291476        0.165425  \n",
       "     2017-03-01      1739.667969  1701.229349  351.286992        0.206490  \n",
       "     2017-04-01      1767.468056  1688.735522  311.907483        0.184699  \n",
       "     2017-05-01      1781.684188  1716.964619  347.842478        0.202592  \n",
       "...                          ...          ...         ...             ...  \n",
       "2022 2022-11-01      1967.972677  1906.712282  313.813086        0.164583  \n",
       "     2022-12-01      2026.150698  1997.221000  310.844665        0.155639  \n",
       "2023 2023-01-01      2152.339354  2108.863816  319.561100        0.151532  \n",
       "     2023-02-01      2119.073531  2070.724080  425.442549        0.205456  \n",
       "     2023-03-01      2197.040583  2091.142509  293.929450        0.140559  \n",
       "\n",
       "[75 rows x 10 columns]"
      ]
     },
     "execution_count": 57,
     "metadata": {},
     "output_type": "execute_result"
    }
   ],
   "source": [
    "# tabla pivot estilo excel\n",
    "pivot = df.pivot_table(index=['AÑO', 'MES'], columns='Tipo día', values='BUENOS AIRES', aggfunc='mean')\n",
    "\n",
    "# le agregamos algunos campos\n",
    "promedio = pivot.mean(axis=1)\n",
    "rango = pivot.max(axis=1) - pivot.min(axis=1)\n",
    "pivot['promedio'] = promedio\n",
    "pivot['rango'] = rango\n",
    "pivot['rango_relativo'] = rango / promedio\n",
    "\n",
    "pivot"
   ]
  },
  {
   "cell_type": "code",
   "execution_count": 58,
   "metadata": {},
   "outputs": [
    {
     "data": {
      "text/html": [
       "<div>\n",
       "<style scoped>\n",
       "    .dataframe tbody tr th:only-of-type {\n",
       "        vertical-align: middle;\n",
       "    }\n",
       "\n",
       "    .dataframe tbody tr th {\n",
       "        vertical-align: top;\n",
       "    }\n",
       "\n",
       "    .dataframe thead th {\n",
       "        text-align: right;\n",
       "    }\n",
       "</style>\n",
       "<table border=\"1\" class=\"dataframe\">\n",
       "  <thead>\n",
       "    <tr style=\"text-align: right;\">\n",
       "      <th></th>\n",
       "      <th>BUENOS AIRES</th>\n",
       "      <th>CENTRO</th>\n",
       "      <th>LITORAL</th>\n",
       "      <th>CUYO</th>\n",
       "      <th>NOROESTE</th>\n",
       "    </tr>\n",
       "    <tr>\n",
       "      <th>Tipo día</th>\n",
       "      <th></th>\n",
       "      <th></th>\n",
       "      <th></th>\n",
       "      <th></th>\n",
       "      <th></th>\n",
       "    </tr>\n",
       "  </thead>\n",
       "  <tbody>\n",
       "    <tr>\n",
       "      <th>Domingo o Feriado</th>\n",
       "      <td>1569.665987</td>\n",
       "      <td>1130.463398</td>\n",
       "      <td>1590.482838</td>\n",
       "      <td>846.196805</td>\n",
       "      <td>1146.861575</td>\n",
       "    </tr>\n",
       "    <tr>\n",
       "      <th>Jueves Habiles</th>\n",
       "      <td>1856.392154</td>\n",
       "      <td>1416.961163</td>\n",
       "      <td>1977.966010</td>\n",
       "      <td>977.950780</td>\n",
       "      <td>1303.602815</td>\n",
       "    </tr>\n",
       "    <tr>\n",
       "      <th>Lunes habiles</th>\n",
       "      <td>1804.900682</td>\n",
       "      <td>1363.369144</td>\n",
       "      <td>1916.054143</td>\n",
       "      <td>942.972663</td>\n",
       "      <td>1260.411783</td>\n",
       "    </tr>\n",
       "    <tr>\n",
       "      <th>Martes Habiles</th>\n",
       "      <td>1851.403831</td>\n",
       "      <td>1412.276778</td>\n",
       "      <td>1963.308331</td>\n",
       "      <td>965.319473</td>\n",
       "      <td>1287.899700</td>\n",
       "    </tr>\n",
       "    <tr>\n",
       "      <th>Miercoles habiles</th>\n",
       "      <td>1856.985557</td>\n",
       "      <td>1418.254673</td>\n",
       "      <td>1976.594583</td>\n",
       "      <td>973.834845</td>\n",
       "      <td>1305.353003</td>\n",
       "    </tr>\n",
       "    <tr>\n",
       "      <th>Sabado o Semilaborable</th>\n",
       "      <td>1748.308105</td>\n",
       "      <td>1239.748899</td>\n",
       "      <td>1746.897448</td>\n",
       "      <td>913.070130</td>\n",
       "      <td>1231.899523</td>\n",
       "    </tr>\n",
       "    <tr>\n",
       "      <th>Viernes habiles</th>\n",
       "      <td>1858.431720</td>\n",
       "      <td>1404.508254</td>\n",
       "      <td>1968.074372</td>\n",
       "      <td>972.359549</td>\n",
       "      <td>1300.968042</td>\n",
       "    </tr>\n",
       "  </tbody>\n",
       "</table>\n",
       "</div>"
      ],
      "text/plain": [
       "                        BUENOS AIRES       CENTRO      LITORAL        CUYO  \\\n",
       "Tipo día                                                                     \n",
       "Domingo o Feriado        1569.665987  1130.463398  1590.482838  846.196805   \n",
       "Jueves Habiles           1856.392154  1416.961163  1977.966010  977.950780   \n",
       "Lunes habiles            1804.900682  1363.369144  1916.054143  942.972663   \n",
       "Martes Habiles           1851.403831  1412.276778  1963.308331  965.319473   \n",
       "Miercoles habiles        1856.985557  1418.254673  1976.594583  973.834845   \n",
       "Sabado o Semilaborable   1748.308105  1239.748899  1746.897448  913.070130   \n",
       "Viernes habiles          1858.431720  1404.508254  1968.074372  972.359549   \n",
       "\n",
       "                           NOROESTE  \n",
       "Tipo día                             \n",
       "Domingo o Feriado       1146.861575  \n",
       "Jueves Habiles          1303.602815  \n",
       "Lunes habiles           1260.411783  \n",
       "Martes Habiles          1287.899700  \n",
       "Miercoles habiles       1305.353003  \n",
       "Sabado o Semilaborable  1231.899523  \n",
       "Viernes habiles         1300.968042  "
      ]
     },
     "execution_count": 58,
     "metadata": {},
     "output_type": "execute_result"
    }
   ],
   "source": [
    "# otra forma de agrupar datos: groupby, parecido al excel \"sumar.si\"\n",
    "grupo = df.groupby('Tipo día')[['BUENOS AIRES', 'CENTRO', 'LITORAL', 'CUYO', 'NOROESTE']].mean()\n",
    "grupo"
   ]
  },
  {
   "cell_type": "code",
   "execution_count": 59,
   "metadata": {},
   "outputs": [
    {
     "name": "stdout",
     "output_type": "stream",
     "text": [
      "['Lunes habiles' 'Martes Habiles' 'Miercoles habiles' 'Jueves Habiles'\n",
      " 'Viernes habiles' 'Sabado o Semilaborable']\n"
     ]
    },
    {
     "data": {
      "text/html": [
       "<div>\n",
       "<style scoped>\n",
       "    .dataframe tbody tr th:only-of-type {\n",
       "        vertical-align: middle;\n",
       "    }\n",
       "\n",
       "    .dataframe tbody tr th {\n",
       "        vertical-align: top;\n",
       "    }\n",
       "\n",
       "    .dataframe thead th {\n",
       "        text-align: right;\n",
       "    }\n",
       "</style>\n",
       "<table border=\"1\" class=\"dataframe\">\n",
       "  <thead>\n",
       "    <tr style=\"text-align: right;\">\n",
       "      <th></th>\n",
       "      <th>BUENOS AIRES</th>\n",
       "      <th>CENTRO</th>\n",
       "      <th>LITORAL</th>\n",
       "      <th>CUYO</th>\n",
       "      <th>NOROESTE</th>\n",
       "    </tr>\n",
       "  </thead>\n",
       "  <tbody>\n",
       "    <tr>\n",
       "      <th>mean</th>\n",
       "      <td>1829.180308</td>\n",
       "      <td>1375.112126</td>\n",
       "      <td>1923.712985</td>\n",
       "      <td>957.507030</td>\n",
       "      <td>1281.689584</td>\n",
       "    </tr>\n",
       "    <tr>\n",
       "      <th>std</th>\n",
       "      <td>180.257892</td>\n",
       "      <td>185.238401</td>\n",
       "      <td>292.966891</td>\n",
       "      <td>126.003764</td>\n",
       "      <td>217.540367</td>\n",
       "    </tr>\n",
       "  </tbody>\n",
       "</table>\n",
       "</div>"
      ],
      "text/plain": [
       "      BUENOS AIRES       CENTRO      LITORAL        CUYO     NOROESTE\n",
       "mean   1829.180308  1375.112126  1923.712985  957.507030  1281.689584\n",
       "std     180.257892   185.238401   292.966891  126.003764   217.540367"
      ]
     },
     "execution_count": 59,
     "metadata": {},
     "output_type": "execute_result"
    }
   ],
   "source": [
    "# filtros\n",
    "df_filtrado = df[df['Tipo día'] != 'Domingo o Feriado']\n",
    "print(df_filtrado['Tipo día'].unique())\n",
    "\n",
    "df_filtrado[['BUENOS AIRES', 'CENTRO', 'LITORAL', 'CUYO', 'NOROESTE']].agg(['mean', 'std'])"
   ]
  },
  {
   "cell_type": "markdown",
   "metadata": {},
   "source": [
    "## Graficos"
   ]
  },
  {
   "cell_type": "code",
   "execution_count": 44,
   "metadata": {},
   "outputs": [
    {
     "data": {
      "image/png": "[encoded data removed]",
      "text/plain": [
       "<Figure size 640x480 with 1 Axes>"
      ]
     },
     "metadata": {},
     "output_type": "display_data"
    }
   ],
   "source": [
    "ax = sns.scatterplot(df, x='TEMPERATURA REFERENCIA MEDIA GBA °C', y='BUENOS AIRES', hue='AÑO', palette='turbo')\n",
    "ax.set_ylabel('Consumo [MW]')\n",
    "ax.set_xlabel('Temperatura [°C]')\n",
    "plt.show()"
   ]
  }
 ],
 "metadata": {
  "kernelspec": {
   "display_name": "Python 3 (ipykernel)",
   "language": "python",
   "name": "python3"
  },
  "language_info": {
   "codemirror_mode": {
    "name": "ipython",
    "version": 3
   },
   "file_extension": ".py",
   "mimetype": "text/x-python",
   "name": "python",
   "nbconvert_exporter": "python",
   "pygments_lexer": "ipython3",
   "version": "3.8.15"
  },
  "toc": {
   "base_numbering": 1,
   "nav_menu": {},
   "number_sections": true,
   "sideBar": true,
   "skip_h1_title": false,
   "title_cell": "Table of Contents",
   "title_sidebar": "Contents",
   "toc_cell": false,
   "toc_position": {},
   "toc_section_display": true,
   "toc_window_display": false
  }
 },
 "nbformat": 4,
 "nbformat_minor": 2
}
